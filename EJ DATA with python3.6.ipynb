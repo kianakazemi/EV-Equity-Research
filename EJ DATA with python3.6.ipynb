{
 "cells": [
  {
   "cell_type": "markdown",
   "metadata": {},
   "source": [
    "## Importing Libraries"
   ]
  },
  {
   "cell_type": "code",
   "execution_count": 1,
   "metadata": {},
   "outputs": [],
   "source": [
    "import pandas as pd\n",
    "import folium\n",
    "import numpy as np\n",
    "import geopandas as gpd\n",
    "from pandas import DataFrame\n",
    "import json"
   ]
  },
  {
   "cell_type": "markdown",
   "metadata": {},
   "source": [
    "## Reading files"
   ]
  },
  {
   "cell_type": "code",
   "execution_count": null,
   "metadata": {},
   "outputs": [],
   "source": [
    "# Assign spreadsheet filename to `file`\n",
    "file = './Data/CVRPStats.xlsx'\n",
    "file2 = './Data/ces3results.xlsx'\n",
    "file3 = './Data/income.xlsx'\n",
    "\n",
    "# Load spreadsheet\n",
    "xl = pd.ExcelFile(file)\n",
    "xl2 = pd.ExcelFile(file2)\n",
    "xl3 = pd.ExcelFile(file3)\n",
    "\n",
    "# Load a sheet into a DataFrame by name: df1\n",
    "cvrpData = xl.parse('CVRP')\n",
    "cesData = xl2.parse('CES')\n",
    "incomeData = xl3.parse('Sheet1')"
   ]
  },
  {
   "cell_type": "code",
   "execution_count": null,
   "metadata": {
    "scrolled": true
   },
   "outputs": [],
   "source": [
    "cvrpData.head()"
   ]
  },
  {
   "cell_type": "code",
   "execution_count": null,
   "metadata": {},
   "outputs": [],
   "source": [
    "cesData.head()"
   ]
  },
  {
   "cell_type": "code",
   "execution_count": null,
   "metadata": {},
   "outputs": [],
   "source": [
    "incomeData.head()"
   ]
  },
  {
   "cell_type": "markdown",
   "metadata": {},
   "source": [
    "## Data Parsing"
   ]
  },
  {
   "cell_type": "code",
   "execution_count": null,
   "metadata": {},
   "outputs": [],
   "source": [
    "def datacleaner(data, filer):\n",
    "    df = DataFrame(data, columns= ['zipcode','Size_of_adjusted_gross_income',filer])\n",
    "    Income = df.loc[df['Size_of_adjusted_gross_income'].isin(['$1 under $25,000', '$25,000 under $50,000', '$50,000 under $75,000', '$75,000 under $100,000', '$100,000 under $200,000'])]\n",
    "    Income = Income.drop(['Size_of_adjusted_gross_income'], axis=1)\n",
    "    Income['zipcode'] = Income['zipcode'].apply(np.int)\n",
    "    Income.dropna()\n",
    "    Income['zipcode'] = Income['zipcode'].astype(np.str)\n",
    "    \n",
    "    def number(row):\n",
    "        if row == \".\":\n",
    "            return 0\n",
    "        else:\n",
    "            return int(row)\n",
    "    Income[filer] = Income[filer].apply(lambda label: number(label))\n",
    "    Income[filer] = Income.groupby(['zipcode'])[filer].transform('sum')\n",
    "    Income[filer] = Income[filer].astype(np.int)\n",
    "    Income.loc[Income.zipcode == '99999', filer] = 0\n",
    "    Income = Income.drop_duplicates(subset='zipcode', keep=\"first\")\n",
    "    return Income"
   ]
  },
  {
   "cell_type": "markdown",
   "metadata": {},
   "source": [
    "## Map Visualization"
   ]
  },
  {
   "cell_type": "code",
   "execution_count": null,
   "metadata": {},
   "outputs": [],
   "source": [
    "def mapMaker(filer, title, data):\n",
    "    map = folium.Map(location=(37.8272, -122.2913), zoom_start=6)\n",
    "    folium.Choropleth(geo_data='./Data/stanford-dc841dq9031-geojson.json',\n",
    "               data=data,\n",
    "               columns=['zipcode', filer],\n",
    "               key_on='feature.properties.zcta',\n",
    "               fill_color= 'BuPu', fill_opacity=1.0, line_opacity=0.2,\n",
    "               legend_name=title).add_to(map)\n",
    "    return map"
   ]
  },
  {
   "cell_type": "markdown",
   "metadata": {},
   "source": [
    "## Different Incomes"
   ]
  },
  {
   "cell_type": "code",
   "execution_count": null,
   "metadata": {},
   "outputs": [],
   "source": [
    "singleIncome = datacleaner(incomeData, 'Number of single returns')\n",
    "singleMap = mapMaker('Number of single returns','Single Income Returns', singleIncome)\n",
    "singleMap"
   ]
  },
  {
   "cell_type": "code",
   "execution_count": null,
   "metadata": {},
   "outputs": [],
   "source": [
    "jointIncome = datacleaner(incomeData, 'Number of joint returns')\n",
    "jointMap = mapMaker('Number of joint returns','Joint Income Returns', jointIncome)\n",
    "jointMap"
   ]
  },
  {
   "cell_type": "code",
   "execution_count": null,
   "metadata": {},
   "outputs": [],
   "source": []
  }
 ],
 "metadata": {
  "kernelspec": {
   "display_name": "Python 3.6.9 64-bit",
   "language": "python",
   "name": "python36964bit77162a0e44294403b60b2c3690007ce7"
  },
  "language_info": {
   "codemirror_mode": {
    "name": "ipython",
    "version": 3
   },
   "file_extension": ".py",
   "mimetype": "text/x-python",
   "name": "python",
   "nbconvert_exporter": "python",
   "pygments_lexer": "ipython3",
   "version": "3.6.9"
  }
 },
 "nbformat": 4,
 "nbformat_minor": 2
}
